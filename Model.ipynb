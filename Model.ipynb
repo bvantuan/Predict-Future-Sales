{
  "nbformat": 4,
  "nbformat_minor": 0,
  "metadata": {
    "colab": {
      "name": "Model.ipynb",
      "provenance": [],
      "collapsed_sections": []
    },
    "kernelspec": {
      "name": "python3",
      "display_name": "Python 3"
    },
    "language_info": {
      "name": "python"
    }
  },
  "cells": [
    {
      "cell_type": "code",
      "execution_count": 1,
      "metadata": {
        "colab": {
          "base_uri": "https://localhost:8080/"
        },
        "id": "Mgk_X8Chja6f",
        "outputId": "23666624-ca99-49f4-d63d-1981656d2eb4"
      },
      "outputs": [
        {
          "output_type": "stream",
          "name": "stdout",
          "text": [
            "/content/drive\n",
            "Mounted at /content/drive\n"
          ]
        }
      ],
      "source": [
        "# Mount Google Drive\n",
        "from google.colab import drive # import drive from google colab\n",
        "\n",
        "ROOT = \"/content/drive\"     # default location for the drive\n",
        "print(ROOT)                 # print content of ROOT (Optional)\n",
        "\n",
        "drive.mount(ROOT)           # we mount the google drive at /content/drive"
      ]
    },
    {
      "cell_type": "code",
      "source": [
        "import numpy as np\n",
        "import pandas as pd\n",
        "import matplotlib.pyplot as plt\n",
        "import seaborn as sns\n",
        "%matplotlib inline\n",
        "import os\n",
        "import re\n",
        "import gc\n",
        "import time\n",
        "import math\n",
        "import pickle\n",
        "from tqdm import tqdm\n",
        "from itertools import product\n",
        "from string import punctuation\n",
        "import lightgbm as lgb\n",
        "from scipy.stats import randint, uniform\n",
        "\n",
        "import warnings\n",
        "warnings.filterwarnings(\"ignore\")"
      ],
      "metadata": {
        "id": "6Rl1TbAEjgnU"
      },
      "execution_count": 2,
      "outputs": []
    },
    {
      "cell_type": "code",
      "source": [
        "from sklearn.metrics import mean_squared_error, r2_score\n",
        "from sklearn.linear_model import LinearRegression\n",
        "from sklearn.model_selection import RandomizedSearchCV, GridSearchCV"
      ],
      "metadata": {
        "id": "oJO-sZbjjmja"
      },
      "execution_count": 3,
      "outputs": []
    },
    {
      "cell_type": "code",
      "source": [
        "# data folder\n",
        "DATA_FOLDER = \"/content/drive/My Drive/Predict Future Sales\""
      ],
      "metadata": {
        "id": "SXqwOAC4jp0i"
      },
      "execution_count": 4,
      "outputs": []
    },
    {
      "cell_type": "code",
      "source": [
        "# Load features\n",
        "dfAggregatedTrainTest = pd.read_hdf(f'{DATA_FOLDER}/features.h5', 'df')"
      ],
      "metadata": {
        "id": "FmbqBrLBjsQb"
      },
      "execution_count": 5,
      "outputs": []
    },
    {
      "cell_type": "code",
      "source": [
        "# Display first 5 rows in the data\n",
        "dfAggregatedTrainTest.head()"
      ],
      "metadata": {
        "colab": {
          "base_uri": "https://localhost:8080/",
          "height": 270
        },
        "id": "PXGZrez-jvGb",
        "outputId": "f00dd1df-27e2-4314-88d6-533c0a4688b3"
      },
      "execution_count": 6,
      "outputs": [
        {
          "output_type": "execute_result",
          "data": {
            "text/html": [
              "\n",
              "  <div id=\"df-710d818f-4c82-4c79-acb4-de0ab72cdaab\">\n",
              "    <div class=\"colab-df-container\">\n",
              "      <div>\n",
              "<style scoped>\n",
              "    .dataframe tbody tr th:only-of-type {\n",
              "        vertical-align: middle;\n",
              "    }\n",
              "\n",
              "    .dataframe tbody tr th {\n",
              "        vertical-align: top;\n",
              "    }\n",
              "\n",
              "    .dataframe thead th {\n",
              "        text-align: right;\n",
              "    }\n",
              "</style>\n",
              "<table border=\"1\" class=\"dataframe\">\n",
              "  <thead>\n",
              "    <tr style=\"text-align: right;\">\n",
              "      <th></th>\n",
              "      <th>shop_id</th>\n",
              "      <th>item_id</th>\n",
              "      <th>date_block_num</th>\n",
              "      <th>target</th>\n",
              "      <th>revenue</th>\n",
              "      <th>target_shop</th>\n",
              "      <th>revenue_per_shop</th>\n",
              "      <th>target_item</th>\n",
              "      <th>revenue_per_item</th>\n",
              "      <th>item_category_id</th>\n",
              "      <th>target_item_category</th>\n",
              "      <th>revenue_per_item_category</th>\n",
              "      <th>target_item_price</th>\n",
              "      <th>item_category_id_target_enc</th>\n",
              "      <th>target_lag_1</th>\n",
              "      <th>target_shop_lag_1</th>\n",
              "      <th>target_item_lag_1</th>\n",
              "      <th>target_item_category_lag_1</th>\n",
              "      <th>target_item_price_lag_1</th>\n",
              "      <th>target_lag_2</th>\n",
              "      <th>target_shop_lag_2</th>\n",
              "      <th>target_item_lag_2</th>\n",
              "      <th>target_item_category_lag_2</th>\n",
              "      <th>target_item_price_lag_2</th>\n",
              "      <th>target_lag_3</th>\n",
              "      <th>target_shop_lag_3</th>\n",
              "      <th>target_item_lag_3</th>\n",
              "      <th>target_item_category_lag_3</th>\n",
              "      <th>target_item_price_lag_3</th>\n",
              "      <th>target_lag_4</th>\n",
              "      <th>target_shop_lag_4</th>\n",
              "      <th>target_item_lag_4</th>\n",
              "      <th>target_item_category_lag_4</th>\n",
              "      <th>target_item_price_lag_4</th>\n",
              "      <th>target_lag_5</th>\n",
              "      <th>target_shop_lag_5</th>\n",
              "      <th>target_item_lag_5</th>\n",
              "      <th>target_item_category_lag_5</th>\n",
              "      <th>target_item_price_lag_5</th>\n",
              "      <th>target_lag_12</th>\n",
              "      <th>target_shop_lag_12</th>\n",
              "      <th>target_item_lag_12</th>\n",
              "      <th>target_item_category_lag_12</th>\n",
              "      <th>target_item_price_lag_12</th>\n",
              "    </tr>\n",
              "  </thead>\n",
              "  <tbody>\n",
              "    <tr>\n",
              "      <th>4483430</th>\n",
              "      <td>2</td>\n",
              "      <td>27</td>\n",
              "      <td>12</td>\n",
              "      <td>0.0</td>\n",
              "      <td>0.0</td>\n",
              "      <td>895.0</td>\n",
              "      <td>1051509.0</td>\n",
              "      <td>1.0</td>\n",
              "      <td>998.0</td>\n",
              "      <td>19</td>\n",
              "      <td>9337.0</td>\n",
              "      <td>14179612.00</td>\n",
              "      <td>998.000000</td>\n",
              "      <td>0.992374</td>\n",
              "      <td>0.0</td>\n",
              "      <td>1326.0</td>\n",
              "      <td>4.0</td>\n",
              "      <td>15855.0</td>\n",
              "      <td>1048.000000</td>\n",
              "      <td>0.0</td>\n",
              "      <td>863.0</td>\n",
              "      <td>2.0</td>\n",
              "      <td>9063.0</td>\n",
              "      <td>1198.000000</td>\n",
              "      <td>0.0</td>\n",
              "      <td>798.0</td>\n",
              "      <td>6.0</td>\n",
              "      <td>14163.0</td>\n",
              "      <td>942.266663</td>\n",
              "      <td>0.0</td>\n",
              "      <td>949.0</td>\n",
              "      <td>1.0</td>\n",
              "      <td>18961.0</td>\n",
              "      <td>1198.000000</td>\n",
              "      <td>0.0</td>\n",
              "      <td>878.0</td>\n",
              "      <td>1.0</td>\n",
              "      <td>10513.0</td>\n",
              "      <td>1198.000000</td>\n",
              "      <td>1.0</td>\n",
              "      <td>1151.0</td>\n",
              "      <td>7.0</td>\n",
              "      <td>9024.0</td>\n",
              "      <td>2325.000000</td>\n",
              "    </tr>\n",
              "    <tr>\n",
              "      <th>4483431</th>\n",
              "      <td>2</td>\n",
              "      <td>30</td>\n",
              "      <td>12</td>\n",
              "      <td>0.0</td>\n",
              "      <td>0.0</td>\n",
              "      <td>895.0</td>\n",
              "      <td>1051509.0</td>\n",
              "      <td>58.0</td>\n",
              "      <td>9802.0</td>\n",
              "      <td>40</td>\n",
              "      <td>22091.0</td>\n",
              "      <td>5793494.00</td>\n",
              "      <td>169.000000</td>\n",
              "      <td>0.264000</td>\n",
              "      <td>0.0</td>\n",
              "      <td>1326.0</td>\n",
              "      <td>47.0</td>\n",
              "      <td>28627.0</td>\n",
              "      <td>167.330856</td>\n",
              "      <td>0.0</td>\n",
              "      <td>863.0</td>\n",
              "      <td>46.0</td>\n",
              "      <td>25465.0</td>\n",
              "      <td>165.217392</td>\n",
              "      <td>0.0</td>\n",
              "      <td>798.0</td>\n",
              "      <td>24.0</td>\n",
              "      <td>24192.0</td>\n",
              "      <td>205.524994</td>\n",
              "      <td>0.0</td>\n",
              "      <td>949.0</td>\n",
              "      <td>13.0</td>\n",
              "      <td>23370.0</td>\n",
              "      <td>399.000000</td>\n",
              "      <td>0.0</td>\n",
              "      <td>878.0</td>\n",
              "      <td>19.0</td>\n",
              "      <td>24153.0</td>\n",
              "      <td>384.894745</td>\n",
              "      <td>0.0</td>\n",
              "      <td>0.0</td>\n",
              "      <td>0.0</td>\n",
              "      <td>0.0</td>\n",
              "      <td>0.000000</td>\n",
              "    </tr>\n",
              "    <tr>\n",
              "      <th>4483432</th>\n",
              "      <td>2</td>\n",
              "      <td>31</td>\n",
              "      <td>12</td>\n",
              "      <td>0.0</td>\n",
              "      <td>0.0</td>\n",
              "      <td>895.0</td>\n",
              "      <td>1051509.0</td>\n",
              "      <td>16.0</td>\n",
              "      <td>7984.0</td>\n",
              "      <td>37</td>\n",
              "      <td>7545.0</td>\n",
              "      <td>2897265.75</td>\n",
              "      <td>499.000000</td>\n",
              "      <td>0.199138</td>\n",
              "      <td>0.0</td>\n",
              "      <td>1326.0</td>\n",
              "      <td>25.0</td>\n",
              "      <td>9989.0</td>\n",
              "      <td>499.000000</td>\n",
              "      <td>0.0</td>\n",
              "      <td>863.0</td>\n",
              "      <td>27.0</td>\n",
              "      <td>7441.0</td>\n",
              "      <td>488.377777</td>\n",
              "      <td>0.0</td>\n",
              "      <td>798.0</td>\n",
              "      <td>25.0</td>\n",
              "      <td>6989.0</td>\n",
              "      <td>543.528015</td>\n",
              "      <td>0.0</td>\n",
              "      <td>949.0</td>\n",
              "      <td>19.0</td>\n",
              "      <td>7703.0</td>\n",
              "      <td>699.000000</td>\n",
              "      <td>0.0</td>\n",
              "      <td>878.0</td>\n",
              "      <td>25.0</td>\n",
              "      <td>8742.0</td>\n",
              "      <td>688.400024</td>\n",
              "      <td>0.0</td>\n",
              "      <td>0.0</td>\n",
              "      <td>0.0</td>\n",
              "      <td>0.0</td>\n",
              "      <td>0.000000</td>\n",
              "    </tr>\n",
              "    <tr>\n",
              "      <th>4483433</th>\n",
              "      <td>2</td>\n",
              "      <td>32</td>\n",
              "      <td>12</td>\n",
              "      <td>1.0</td>\n",
              "      <td>119.0</td>\n",
              "      <td>895.0</td>\n",
              "      <td>1051509.0</td>\n",
              "      <td>84.0</td>\n",
              "      <td>12190.0</td>\n",
              "      <td>40</td>\n",
              "      <td>22091.0</td>\n",
              "      <td>5793494.00</td>\n",
              "      <td>145.119049</td>\n",
              "      <td>0.263999</td>\n",
              "      <td>0.0</td>\n",
              "      <td>1326.0</td>\n",
              "      <td>90.0</td>\n",
              "      <td>28627.0</td>\n",
              "      <td>148.095001</td>\n",
              "      <td>0.0</td>\n",
              "      <td>863.0</td>\n",
              "      <td>81.0</td>\n",
              "      <td>25465.0</td>\n",
              "      <td>144.432098</td>\n",
              "      <td>0.0</td>\n",
              "      <td>798.0</td>\n",
              "      <td>58.0</td>\n",
              "      <td>24192.0</td>\n",
              "      <td>182.137924</td>\n",
              "      <td>0.0</td>\n",
              "      <td>949.0</td>\n",
              "      <td>59.0</td>\n",
              "      <td>23370.0</td>\n",
              "      <td>338.152557</td>\n",
              "      <td>0.0</td>\n",
              "      <td>878.0</td>\n",
              "      <td>72.0</td>\n",
              "      <td>24153.0</td>\n",
              "      <td>340.908325</td>\n",
              "      <td>0.0</td>\n",
              "      <td>1151.0</td>\n",
              "      <td>299.0</td>\n",
              "      <td>33532.0</td>\n",
              "      <td>339.517914</td>\n",
              "    </tr>\n",
              "    <tr>\n",
              "      <th>4483434</th>\n",
              "      <td>2</td>\n",
              "      <td>33</td>\n",
              "      <td>12</td>\n",
              "      <td>1.0</td>\n",
              "      <td>199.0</td>\n",
              "      <td>895.0</td>\n",
              "      <td>1051509.0</td>\n",
              "      <td>42.0</td>\n",
              "      <td>8296.0</td>\n",
              "      <td>37</td>\n",
              "      <td>7545.0</td>\n",
              "      <td>2897265.75</td>\n",
              "      <td>197.523804</td>\n",
              "      <td>0.199138</td>\n",
              "      <td>1.0</td>\n",
              "      <td>1326.0</td>\n",
              "      <td>42.0</td>\n",
              "      <td>9989.0</td>\n",
              "      <td>196.047623</td>\n",
              "      <td>2.0</td>\n",
              "      <td>863.0</td>\n",
              "      <td>15.0</td>\n",
              "      <td>7441.0</td>\n",
              "      <td>194.866669</td>\n",
              "      <td>0.0</td>\n",
              "      <td>798.0</td>\n",
              "      <td>33.0</td>\n",
              "      <td>6989.0</td>\n",
              "      <td>195.915146</td>\n",
              "      <td>0.0</td>\n",
              "      <td>949.0</td>\n",
              "      <td>43.0</td>\n",
              "      <td>7703.0</td>\n",
              "      <td>198.074417</td>\n",
              "      <td>0.0</td>\n",
              "      <td>878.0</td>\n",
              "      <td>36.0</td>\n",
              "      <td>8742.0</td>\n",
              "      <td>197.277771</td>\n",
              "      <td>1.0</td>\n",
              "      <td>1151.0</td>\n",
              "      <td>61.0</td>\n",
              "      <td>6132.0</td>\n",
              "      <td>489.032776</td>\n",
              "    </tr>\n",
              "  </tbody>\n",
              "</table>\n",
              "</div>\n",
              "      <button class=\"colab-df-convert\" onclick=\"convertToInteractive('df-710d818f-4c82-4c79-acb4-de0ab72cdaab')\"\n",
              "              title=\"Convert this dataframe to an interactive table.\"\n",
              "              style=\"display:none;\">\n",
              "        \n",
              "  <svg xmlns=\"http://www.w3.org/2000/svg\" height=\"24px\"viewBox=\"0 0 24 24\"\n",
              "       width=\"24px\">\n",
              "    <path d=\"M0 0h24v24H0V0z\" fill=\"none\"/>\n",
              "    <path d=\"M18.56 5.44l.94 2.06.94-2.06 2.06-.94-2.06-.94-.94-2.06-.94 2.06-2.06.94zm-11 1L8.5 8.5l.94-2.06 2.06-.94-2.06-.94L8.5 2.5l-.94 2.06-2.06.94zm10 10l.94 2.06.94-2.06 2.06-.94-2.06-.94-.94-2.06-.94 2.06-2.06.94z\"/><path d=\"M17.41 7.96l-1.37-1.37c-.4-.4-.92-.59-1.43-.59-.52 0-1.04.2-1.43.59L10.3 9.45l-7.72 7.72c-.78.78-.78 2.05 0 2.83L4 21.41c.39.39.9.59 1.41.59.51 0 1.02-.2 1.41-.59l7.78-7.78 2.81-2.81c.8-.78.8-2.07 0-2.86zM5.41 20L4 18.59l7.72-7.72 1.47 1.35L5.41 20z\"/>\n",
              "  </svg>\n",
              "      </button>\n",
              "      \n",
              "  <style>\n",
              "    .colab-df-container {\n",
              "      display:flex;\n",
              "      flex-wrap:wrap;\n",
              "      gap: 12px;\n",
              "    }\n",
              "\n",
              "    .colab-df-convert {\n",
              "      background-color: #E8F0FE;\n",
              "      border: none;\n",
              "      border-radius: 50%;\n",
              "      cursor: pointer;\n",
              "      display: none;\n",
              "      fill: #1967D2;\n",
              "      height: 32px;\n",
              "      padding: 0 0 0 0;\n",
              "      width: 32px;\n",
              "    }\n",
              "\n",
              "    .colab-df-convert:hover {\n",
              "      background-color: #E2EBFA;\n",
              "      box-shadow: 0px 1px 2px rgba(60, 64, 67, 0.3), 0px 1px 3px 1px rgba(60, 64, 67, 0.15);\n",
              "      fill: #174EA6;\n",
              "    }\n",
              "\n",
              "    [theme=dark] .colab-df-convert {\n",
              "      background-color: #3B4455;\n",
              "      fill: #D2E3FC;\n",
              "    }\n",
              "\n",
              "    [theme=dark] .colab-df-convert:hover {\n",
              "      background-color: #434B5C;\n",
              "      box-shadow: 0px 1px 3px 1px rgba(0, 0, 0, 0.15);\n",
              "      filter: drop-shadow(0px 1px 2px rgba(0, 0, 0, 0.3));\n",
              "      fill: #FFFFFF;\n",
              "    }\n",
              "  </style>\n",
              "\n",
              "      <script>\n",
              "        const buttonEl =\n",
              "          document.querySelector('#df-710d818f-4c82-4c79-acb4-de0ab72cdaab button.colab-df-convert');\n",
              "        buttonEl.style.display =\n",
              "          google.colab.kernel.accessAllowed ? 'block' : 'none';\n",
              "\n",
              "        async function convertToInteractive(key) {\n",
              "          const element = document.querySelector('#df-710d818f-4c82-4c79-acb4-de0ab72cdaab');\n",
              "          const dataTable =\n",
              "            await google.colab.kernel.invokeFunction('convertToInteractive',\n",
              "                                                     [key], {});\n",
              "          if (!dataTable) return;\n",
              "\n",
              "          const docLinkHtml = 'Like what you see? Visit the ' +\n",
              "            '<a target=\"_blank\" href=https://colab.research.google.com/notebooks/data_table.ipynb>data table notebook</a>'\n",
              "            + ' to learn more about interactive tables.';\n",
              "          element.innerHTML = '';\n",
              "          dataTable['output_type'] = 'display_data';\n",
              "          await google.colab.output.renderOutput(dataTable, element);\n",
              "          const docLink = document.createElement('div');\n",
              "          docLink.innerHTML = docLinkHtml;\n",
              "          element.appendChild(docLink);\n",
              "        }\n",
              "      </script>\n",
              "    </div>\n",
              "  </div>\n",
              "  "
            ],
            "text/plain": [
              "         shop_id  ...  target_item_price_lag_12\n",
              "4483430        2  ...               2325.000000\n",
              "4483431        2  ...                  0.000000\n",
              "4483432        2  ...                  0.000000\n",
              "4483433        2  ...                339.517914\n",
              "4483434        2  ...                489.032776\n",
              "\n",
              "[5 rows x 44 columns]"
            ]
          },
          "metadata": {},
          "execution_count": 6
        }
      ]
    },
    {
      "cell_type": "code",
      "source": [
        "# index columns\n",
        "INDEX_COLS = ['shop_id', 'item_id', 'date_block_num']\n",
        "# data columns\n",
        "DATA_COLS = ['item_price', 'item_cnt_day']\n",
        "# target columns\n",
        "TARGET_COLS = ['target', 'revenue', 'target_shop', 'revenue_per_shop', 'target_item', 'revenue_per_item', 'target_item_category', 'revenue_per_item_category', 'target_item_price']"
      ],
      "metadata": {
        "id": "VNpVLKdpj2Wr"
      },
      "execution_count": 7,
      "outputs": []
    },
    {
      "cell_type": "code",
      "source": [
        "# Remove targets columns (no leakages)\n",
        "clFeatureColumn = list(dfAggregatedTrainTest.columns)\n",
        "clFeatureColumn = [sColumn for sColumn in clFeatureColumn if sColumn not in TARGET_COLS]"
      ],
      "metadata": {
        "id": "oztwB5YyXWff"
      },
      "execution_count": 11,
      "outputs": []
    },
    {
      "cell_type": "code",
      "source": [
        "# Dataset split\n",
        "# The dataset has a timeline, get last month of train as validation data.\n",
        "iTestMonth = max(dfAggregatedTrainTest['date_block_num']) \n",
        "# validation month\n",
        "iValMonth = max(dfAggregatedTrainTest['date_block_num']) - 1    \n",
        "\n",
        "# column `date_block_num`\n",
        "dsTrainTestDate = dfAggregatedTrainTest['date_block_num']\n",
        "# training dates\n",
        "dsTrainDate  = dsTrainTestDate[dsTrainTestDate<iValMonth]\n",
        "# validation dates\n",
        "dsValDate = dsTrainTestDate[dsTrainTestDate==iValMonth]\n",
        "# test dates\n",
        "dsTestDate  = dsTrainTestDate[dsTrainTestDate==iTestMonth]\n",
        "\n",
        "# training data\n",
        "dfTrainData = dfAggregatedTrainTest[dsTrainTestDate<iValMonth][clFeatureColumn]\n",
        "# validation data\n",
        "dfValData = dfAggregatedTrainTest[dsTrainTestDate==iValMonth][clFeatureColumn]\n",
        "# test data\n",
        "dfTestData = dfAggregatedTrainTest[dsTrainTestDate==iTestMonth][clFeatureColumn]\n",
        "\n",
        "# training target\n",
        "dsTrainTarget = dfAggregatedTrainTest.loc[dsTrainTestDate<iValMonth, 'target'].values\n",
        "# validation target\n",
        "dsValTarget = dfAggregatedTrainTest.loc[dsTrainTestDate==iValMonth, 'target'].values\n",
        "# test target\n",
        "dsTestTarget =  dfAggregatedTrainTest.loc[dsTrainTestDate==iTestMonth, 'target'].values"
      ],
      "metadata": {
        "id": "MD31d-xVkT8z"
      },
      "execution_count": 12,
      "outputs": []
    },
    {
      "cell_type": "code",
      "source": [
        "# Display the first 5 rows\n",
        "dfTrainData.head()"
      ],
      "metadata": {
        "colab": {
          "base_uri": "https://localhost:8080/",
          "height": 270
        },
        "id": "vqhelSCZYL8Q",
        "outputId": "6b7130af-2297-43f2-e987-99f7710aab29"
      },
      "execution_count": 13,
      "outputs": [
        {
          "output_type": "execute_result",
          "data": {
            "text/html": [
              "\n",
              "  <div id=\"df-535d0e17-9396-44e6-9c6e-0719b27622dd\">\n",
              "    <div class=\"colab-df-container\">\n",
              "      <div>\n",
              "<style scoped>\n",
              "    .dataframe tbody tr th:only-of-type {\n",
              "        vertical-align: middle;\n",
              "    }\n",
              "\n",
              "    .dataframe tbody tr th {\n",
              "        vertical-align: top;\n",
              "    }\n",
              "\n",
              "    .dataframe thead th {\n",
              "        text-align: right;\n",
              "    }\n",
              "</style>\n",
              "<table border=\"1\" class=\"dataframe\">\n",
              "  <thead>\n",
              "    <tr style=\"text-align: right;\">\n",
              "      <th></th>\n",
              "      <th>shop_id</th>\n",
              "      <th>item_id</th>\n",
              "      <th>date_block_num</th>\n",
              "      <th>item_category_id</th>\n",
              "      <th>item_category_id_target_enc</th>\n",
              "      <th>target_lag_1</th>\n",
              "      <th>target_shop_lag_1</th>\n",
              "      <th>target_item_lag_1</th>\n",
              "      <th>target_item_category_lag_1</th>\n",
              "      <th>target_item_price_lag_1</th>\n",
              "      <th>target_lag_2</th>\n",
              "      <th>target_shop_lag_2</th>\n",
              "      <th>target_item_lag_2</th>\n",
              "      <th>target_item_category_lag_2</th>\n",
              "      <th>target_item_price_lag_2</th>\n",
              "      <th>target_lag_3</th>\n",
              "      <th>target_shop_lag_3</th>\n",
              "      <th>target_item_lag_3</th>\n",
              "      <th>target_item_category_lag_3</th>\n",
              "      <th>target_item_price_lag_3</th>\n",
              "      <th>target_lag_4</th>\n",
              "      <th>target_shop_lag_4</th>\n",
              "      <th>target_item_lag_4</th>\n",
              "      <th>target_item_category_lag_4</th>\n",
              "      <th>target_item_price_lag_4</th>\n",
              "      <th>target_lag_5</th>\n",
              "      <th>target_shop_lag_5</th>\n",
              "      <th>target_item_lag_5</th>\n",
              "      <th>target_item_category_lag_5</th>\n",
              "      <th>target_item_price_lag_5</th>\n",
              "      <th>target_lag_12</th>\n",
              "      <th>target_shop_lag_12</th>\n",
              "      <th>target_item_lag_12</th>\n",
              "      <th>target_item_category_lag_12</th>\n",
              "      <th>target_item_price_lag_12</th>\n",
              "    </tr>\n",
              "  </thead>\n",
              "  <tbody>\n",
              "    <tr>\n",
              "      <th>4483430</th>\n",
              "      <td>2</td>\n",
              "      <td>27</td>\n",
              "      <td>12</td>\n",
              "      <td>19</td>\n",
              "      <td>0.992374</td>\n",
              "      <td>0.0</td>\n",
              "      <td>1326.0</td>\n",
              "      <td>4.0</td>\n",
              "      <td>15855.0</td>\n",
              "      <td>1048.000000</td>\n",
              "      <td>0.0</td>\n",
              "      <td>863.0</td>\n",
              "      <td>2.0</td>\n",
              "      <td>9063.0</td>\n",
              "      <td>1198.000000</td>\n",
              "      <td>0.0</td>\n",
              "      <td>798.0</td>\n",
              "      <td>6.0</td>\n",
              "      <td>14163.0</td>\n",
              "      <td>942.266663</td>\n",
              "      <td>0.0</td>\n",
              "      <td>949.0</td>\n",
              "      <td>1.0</td>\n",
              "      <td>18961.0</td>\n",
              "      <td>1198.000000</td>\n",
              "      <td>0.0</td>\n",
              "      <td>878.0</td>\n",
              "      <td>1.0</td>\n",
              "      <td>10513.0</td>\n",
              "      <td>1198.000000</td>\n",
              "      <td>1.0</td>\n",
              "      <td>1151.0</td>\n",
              "      <td>7.0</td>\n",
              "      <td>9024.0</td>\n",
              "      <td>2325.000000</td>\n",
              "    </tr>\n",
              "    <tr>\n",
              "      <th>4483431</th>\n",
              "      <td>2</td>\n",
              "      <td>30</td>\n",
              "      <td>12</td>\n",
              "      <td>40</td>\n",
              "      <td>0.264000</td>\n",
              "      <td>0.0</td>\n",
              "      <td>1326.0</td>\n",
              "      <td>47.0</td>\n",
              "      <td>28627.0</td>\n",
              "      <td>167.330856</td>\n",
              "      <td>0.0</td>\n",
              "      <td>863.0</td>\n",
              "      <td>46.0</td>\n",
              "      <td>25465.0</td>\n",
              "      <td>165.217392</td>\n",
              "      <td>0.0</td>\n",
              "      <td>798.0</td>\n",
              "      <td>24.0</td>\n",
              "      <td>24192.0</td>\n",
              "      <td>205.524994</td>\n",
              "      <td>0.0</td>\n",
              "      <td>949.0</td>\n",
              "      <td>13.0</td>\n",
              "      <td>23370.0</td>\n",
              "      <td>399.000000</td>\n",
              "      <td>0.0</td>\n",
              "      <td>878.0</td>\n",
              "      <td>19.0</td>\n",
              "      <td>24153.0</td>\n",
              "      <td>384.894745</td>\n",
              "      <td>0.0</td>\n",
              "      <td>0.0</td>\n",
              "      <td>0.0</td>\n",
              "      <td>0.0</td>\n",
              "      <td>0.000000</td>\n",
              "    </tr>\n",
              "    <tr>\n",
              "      <th>4483432</th>\n",
              "      <td>2</td>\n",
              "      <td>31</td>\n",
              "      <td>12</td>\n",
              "      <td>37</td>\n",
              "      <td>0.199138</td>\n",
              "      <td>0.0</td>\n",
              "      <td>1326.0</td>\n",
              "      <td>25.0</td>\n",
              "      <td>9989.0</td>\n",
              "      <td>499.000000</td>\n",
              "      <td>0.0</td>\n",
              "      <td>863.0</td>\n",
              "      <td>27.0</td>\n",
              "      <td>7441.0</td>\n",
              "      <td>488.377777</td>\n",
              "      <td>0.0</td>\n",
              "      <td>798.0</td>\n",
              "      <td>25.0</td>\n",
              "      <td>6989.0</td>\n",
              "      <td>543.528015</td>\n",
              "      <td>0.0</td>\n",
              "      <td>949.0</td>\n",
              "      <td>19.0</td>\n",
              "      <td>7703.0</td>\n",
              "      <td>699.000000</td>\n",
              "      <td>0.0</td>\n",
              "      <td>878.0</td>\n",
              "      <td>25.0</td>\n",
              "      <td>8742.0</td>\n",
              "      <td>688.400024</td>\n",
              "      <td>0.0</td>\n",
              "      <td>0.0</td>\n",
              "      <td>0.0</td>\n",
              "      <td>0.0</td>\n",
              "      <td>0.000000</td>\n",
              "    </tr>\n",
              "    <tr>\n",
              "      <th>4483433</th>\n",
              "      <td>2</td>\n",
              "      <td>32</td>\n",
              "      <td>12</td>\n",
              "      <td>40</td>\n",
              "      <td>0.263999</td>\n",
              "      <td>0.0</td>\n",
              "      <td>1326.0</td>\n",
              "      <td>90.0</td>\n",
              "      <td>28627.0</td>\n",
              "      <td>148.095001</td>\n",
              "      <td>0.0</td>\n",
              "      <td>863.0</td>\n",
              "      <td>81.0</td>\n",
              "      <td>25465.0</td>\n",
              "      <td>144.432098</td>\n",
              "      <td>0.0</td>\n",
              "      <td>798.0</td>\n",
              "      <td>58.0</td>\n",
              "      <td>24192.0</td>\n",
              "      <td>182.137924</td>\n",
              "      <td>0.0</td>\n",
              "      <td>949.0</td>\n",
              "      <td>59.0</td>\n",
              "      <td>23370.0</td>\n",
              "      <td>338.152557</td>\n",
              "      <td>0.0</td>\n",
              "      <td>878.0</td>\n",
              "      <td>72.0</td>\n",
              "      <td>24153.0</td>\n",
              "      <td>340.908325</td>\n",
              "      <td>0.0</td>\n",
              "      <td>1151.0</td>\n",
              "      <td>299.0</td>\n",
              "      <td>33532.0</td>\n",
              "      <td>339.517914</td>\n",
              "    </tr>\n",
              "    <tr>\n",
              "      <th>4483434</th>\n",
              "      <td>2</td>\n",
              "      <td>33</td>\n",
              "      <td>12</td>\n",
              "      <td>37</td>\n",
              "      <td>0.199138</td>\n",
              "      <td>1.0</td>\n",
              "      <td>1326.0</td>\n",
              "      <td>42.0</td>\n",
              "      <td>9989.0</td>\n",
              "      <td>196.047623</td>\n",
              "      <td>2.0</td>\n",
              "      <td>863.0</td>\n",
              "      <td>15.0</td>\n",
              "      <td>7441.0</td>\n",
              "      <td>194.866669</td>\n",
              "      <td>0.0</td>\n",
              "      <td>798.0</td>\n",
              "      <td>33.0</td>\n",
              "      <td>6989.0</td>\n",
              "      <td>195.915146</td>\n",
              "      <td>0.0</td>\n",
              "      <td>949.0</td>\n",
              "      <td>43.0</td>\n",
              "      <td>7703.0</td>\n",
              "      <td>198.074417</td>\n",
              "      <td>0.0</td>\n",
              "      <td>878.0</td>\n",
              "      <td>36.0</td>\n",
              "      <td>8742.0</td>\n",
              "      <td>197.277771</td>\n",
              "      <td>1.0</td>\n",
              "      <td>1151.0</td>\n",
              "      <td>61.0</td>\n",
              "      <td>6132.0</td>\n",
              "      <td>489.032776</td>\n",
              "    </tr>\n",
              "  </tbody>\n",
              "</table>\n",
              "</div>\n",
              "      <button class=\"colab-df-convert\" onclick=\"convertToInteractive('df-535d0e17-9396-44e6-9c6e-0719b27622dd')\"\n",
              "              title=\"Convert this dataframe to an interactive table.\"\n",
              "              style=\"display:none;\">\n",
              "        \n",
              "  <svg xmlns=\"http://www.w3.org/2000/svg\" height=\"24px\"viewBox=\"0 0 24 24\"\n",
              "       width=\"24px\">\n",
              "    <path d=\"M0 0h24v24H0V0z\" fill=\"none\"/>\n",
              "    <path d=\"M18.56 5.44l.94 2.06.94-2.06 2.06-.94-2.06-.94-.94-2.06-.94 2.06-2.06.94zm-11 1L8.5 8.5l.94-2.06 2.06-.94-2.06-.94L8.5 2.5l-.94 2.06-2.06.94zm10 10l.94 2.06.94-2.06 2.06-.94-2.06-.94-.94-2.06-.94 2.06-2.06.94z\"/><path d=\"M17.41 7.96l-1.37-1.37c-.4-.4-.92-.59-1.43-.59-.52 0-1.04.2-1.43.59L10.3 9.45l-7.72 7.72c-.78.78-.78 2.05 0 2.83L4 21.41c.39.39.9.59 1.41.59.51 0 1.02-.2 1.41-.59l7.78-7.78 2.81-2.81c.8-.78.8-2.07 0-2.86zM5.41 20L4 18.59l7.72-7.72 1.47 1.35L5.41 20z\"/>\n",
              "  </svg>\n",
              "      </button>\n",
              "      \n",
              "  <style>\n",
              "    .colab-df-container {\n",
              "      display:flex;\n",
              "      flex-wrap:wrap;\n",
              "      gap: 12px;\n",
              "    }\n",
              "\n",
              "    .colab-df-convert {\n",
              "      background-color: #E8F0FE;\n",
              "      border: none;\n",
              "      border-radius: 50%;\n",
              "      cursor: pointer;\n",
              "      display: none;\n",
              "      fill: #1967D2;\n",
              "      height: 32px;\n",
              "      padding: 0 0 0 0;\n",
              "      width: 32px;\n",
              "    }\n",
              "\n",
              "    .colab-df-convert:hover {\n",
              "      background-color: #E2EBFA;\n",
              "      box-shadow: 0px 1px 2px rgba(60, 64, 67, 0.3), 0px 1px 3px 1px rgba(60, 64, 67, 0.15);\n",
              "      fill: #174EA6;\n",
              "    }\n",
              "\n",
              "    [theme=dark] .colab-df-convert {\n",
              "      background-color: #3B4455;\n",
              "      fill: #D2E3FC;\n",
              "    }\n",
              "\n",
              "    [theme=dark] .colab-df-convert:hover {\n",
              "      background-color: #434B5C;\n",
              "      box-shadow: 0px 1px 3px 1px rgba(0, 0, 0, 0.15);\n",
              "      filter: drop-shadow(0px 1px 2px rgba(0, 0, 0, 0.3));\n",
              "      fill: #FFFFFF;\n",
              "    }\n",
              "  </style>\n",
              "\n",
              "      <script>\n",
              "        const buttonEl =\n",
              "          document.querySelector('#df-535d0e17-9396-44e6-9c6e-0719b27622dd button.colab-df-convert');\n",
              "        buttonEl.style.display =\n",
              "          google.colab.kernel.accessAllowed ? 'block' : 'none';\n",
              "\n",
              "        async function convertToInteractive(key) {\n",
              "          const element = document.querySelector('#df-535d0e17-9396-44e6-9c6e-0719b27622dd');\n",
              "          const dataTable =\n",
              "            await google.colab.kernel.invokeFunction('convertToInteractive',\n",
              "                                                     [key], {});\n",
              "          if (!dataTable) return;\n",
              "\n",
              "          const docLinkHtml = 'Like what you see? Visit the ' +\n",
              "            '<a target=\"_blank\" href=https://colab.research.google.com/notebooks/data_table.ipynb>data table notebook</a>'\n",
              "            + ' to learn more about interactive tables.';\n",
              "          element.innerHTML = '';\n",
              "          dataTable['output_type'] = 'display_data';\n",
              "          await google.colab.output.renderOutput(dataTable, element);\n",
              "          const docLink = document.createElement('div');\n",
              "          docLink.innerHTML = docLinkHtml;\n",
              "          element.appendChild(docLink);\n",
              "        }\n",
              "      </script>\n",
              "    </div>\n",
              "  </div>\n",
              "  "
            ],
            "text/plain": [
              "         shop_id  ...  target_item_price_lag_12\n",
              "4483430        2  ...               2325.000000\n",
              "4483431        2  ...                  0.000000\n",
              "4483432        2  ...                  0.000000\n",
              "4483433        2  ...                339.517914\n",
              "4483434        2  ...                489.032776\n",
              "\n",
              "[5 rows x 35 columns]"
            ]
          },
          "metadata": {},
          "execution_count": 13
        }
      ]
    },
    {
      "cell_type": "code",
      "source": [
        "# True target values are clipped into [0,20] range.\n",
        "TARGET_RANGE = [0, 20]"
      ],
      "metadata": {
        "id": "3G6MtbjtkdFz"
      },
      "execution_count": 29,
      "outputs": []
    },
    {
      "cell_type": "code",
      "source": [
        "\"\"\"\n",
        "    Function name: RMSEScore\n",
        "    \n",
        "    Objective: Calculate root mean squared error (RMSE)\n",
        "    \n",
        "    Summary algorithmic description: Calculate root mean squared error (RMSE) beetween truth targets and prediction target\n",
        "    \n",
        "    Input parameters: itTruthTarget : truth targets\n",
        "                      itPredTarget : prediction target\n",
        "    \n",
        "    Return : root mean squared error (RMSE)\n",
        "    \n",
        "    Date : 24/12/2021\n",
        "    \n",
        "    Coding: INSA CVL - Van Tuan BUI  \n",
        "\"\"\"\n",
        "def RMSEScore(itTruthTarget, itPredTarget):\n",
        "    # Return root mean squared error (RMSE)\n",
        "    return math.sqrt(mean_squared_error(itTruthTarget, itPredTarget))"
      ],
      "metadata": {
        "id": "_vuWeQW_6itp"
      },
      "execution_count": 30,
      "outputs": []
    },
    {
      "cell_type": "markdown",
      "source": [
        "# Linear Regressor"
      ],
      "metadata": {
        "id": "31LEDP-Ekhsv"
      }
    },
    {
      "cell_type": "code",
      "source": [
        "# Start time\n",
        "fStartTime = time.time()\n",
        "# a linear model\n",
        "oLinearRegression = LinearRegression()\n",
        "# Fit linear model\n",
        "oLinearRegression.fit(dfTrainData.values, dsTrainTarget) \n",
        "print(\"Elapsed time: %.2f\" % (time.time() - fStartTime))"
      ],
      "metadata": {
        "colab": {
          "base_uri": "https://localhost:8080/"
        },
        "id": "oaGCkDL9kfry",
        "outputId": "c12b5530-7cf4-4c94-b256-82ce3872e0cc"
      },
      "execution_count": 31,
      "outputs": [
        {
          "output_type": "stream",
          "name": "stdout",
          "text": [
            "Elapsed time: 29.67\n"
          ]
        }
      ]
    },
    {
      "cell_type": "code",
      "source": [
        "# Predict validation data\n",
        "caLinearRegressionValPredTarget = oLinearRegression.predict(dfValData.values)\n",
        "\n",
        "# Validation RMSE score\n",
        "print('Validation RMSE for linear regression is %f' % RMSEScore(dsValTarget, caLinearRegressionValPredTarget.clip(*TARGET_RANGE)))"
      ],
      "metadata": {
        "colab": {
          "base_uri": "https://localhost:8080/"
        },
        "id": "xVeNEGKekkmq",
        "outputId": "d9f9d60c-0785-40af-b729-80315309b95a"
      },
      "execution_count": 32,
      "outputs": [
        {
          "output_type": "stream",
          "name": "stdout",
          "text": [
            "Validation RMSE for linear regression is 0.833735\n"
          ]
        }
      ]
    },
    {
      "cell_type": "markdown",
      "source": [
        "# LightGBM\n",
        "LightGBM uses a novel technique of Gradient-based One-Side Sampling (GOSS) to filter out the data instances for finding a split value\n",
        "* max_depth : limit the max depth for tree model. default = -1\n",
        "* num_leaves : max number of leaves in one tree. default = 31\n",
        "* min_data_in_leaf : minimal number of data in one leaf. default = 20\n",
        "* feature_fraction : randomly select a subset of features on each iteration (tree). default = 1.0\n",
        "* bagging_fraction : randomly select part of data without resampling. default = 1.0\n",
        "* bagging_seed : random seed for bagging. default = 3\n",
        "* bagging_freq : frequency for bagging; 0 means disable bagging; k means perform bagging at every k iteration. default = 0"
      ],
      "metadata": {
        "id": "0cZo3tKM_S-q"
      }
    },
    {
      "cell_type": "code",
      "source": [
        "# lightgbm parameters\n",
        "LGB_PARAMS = {\n",
        "              # 'max_depth' : 10, \n",
        "              'num_leaves' : 2**10,\n",
        "              'min_data_in_leaf' : 2**10,\n",
        "              'learning_rate' : 0.03,\n",
        "              'feature_fraction': 0.75,\n",
        "              'bagging_fraction': 0.75,\n",
        "              'bagging_seed': 2**10,\n",
        "              'bagging_freq':1,\n",
        "              'metric': 'rmse',\n",
        "              'objective': 'rmse'\n",
        "              }\n",
        "\n",
        "# Number of boosting iterations\n",
        "LGB_ITERATION = 1000"
      ],
      "metadata": {
        "id": "xA7chM43FfuW"
      },
      "execution_count": 33,
      "outputs": []
    },
    {
      "cell_type": "code",
      "source": [
        "# Fit with early stopping to check the iterations (tuning)\n",
        "oLGBModel = lgb.train(LGB_PARAMS, \n",
        "                        lgb.Dataset(dfTrainData, label=dsTrainTarget), \n",
        "                        num_boost_round=LGB_ITERATION,\n",
        "                        valid_sets=[lgb.Dataset(dfValData, label=dsValTarget)], \n",
        "                        valid_names=['val'],\n",
        "                        early_stopping_rounds=3 \n",
        "                        )"
      ],
      "metadata": {
        "colab": {
          "base_uri": "https://localhost:8080/"
        },
        "id": "jUS1auMMKHD5",
        "outputId": "d5ab0b02-4216-4a0a-b8a2-86d4c57c4bdf"
      },
      "execution_count": 34,
      "outputs": [
        {
          "output_type": "stream",
          "name": "stdout",
          "text": [
            "[1]\tval's rmse: 0.941727\n",
            "Training until validation scores don't improve for 3 rounds.\n",
            "[2]\tval's rmse: 0.934733\n",
            "[3]\tval's rmse: 0.927204\n",
            "[4]\tval's rmse: 0.920551\n",
            "[5]\tval's rmse: 0.913753\n",
            "[6]\tval's rmse: 0.90683\n",
            "[7]\tval's rmse: 0.900845\n",
            "[8]\tval's rmse: 0.895477\n",
            "[9]\tval's rmse: 0.890238\n",
            "[10]\tval's rmse: 0.885019\n",
            "[11]\tval's rmse: 0.880969\n",
            "[12]\tval's rmse: 0.87659\n",
            "[13]\tval's rmse: 0.872082\n",
            "[14]\tval's rmse: 0.867693\n",
            "[15]\tval's rmse: 0.864003\n",
            "[16]\tval's rmse: 0.86053\n",
            "[17]\tval's rmse: 0.856899\n",
            "[18]\tval's rmse: 0.853735\n",
            "[19]\tval's rmse: 0.85056\n",
            "[20]\tval's rmse: 0.847546\n",
            "[21]\tval's rmse: 0.844961\n",
            "[22]\tval's rmse: 0.842153\n",
            "[23]\tval's rmse: 0.84014\n",
            "[24]\tval's rmse: 0.837975\n",
            "[25]\tval's rmse: 0.835296\n",
            "[26]\tval's rmse: 0.832905\n",
            "[27]\tval's rmse: 0.830605\n",
            "[28]\tval's rmse: 0.82885\n",
            "[29]\tval's rmse: 0.826775\n",
            "[30]\tval's rmse: 0.824839\n",
            "[31]\tval's rmse: 0.823104\n",
            "[32]\tval's rmse: 0.822015\n",
            "[33]\tval's rmse: 0.820505\n",
            "[34]\tval's rmse: 0.818891\n",
            "[35]\tval's rmse: 0.817464\n",
            "[36]\tval's rmse: 0.816195\n",
            "[37]\tval's rmse: 0.814805\n",
            "[38]\tval's rmse: 0.813694\n",
            "[39]\tval's rmse: 0.812624\n",
            "[40]\tval's rmse: 0.811598\n",
            "[41]\tval's rmse: 0.810669\n",
            "[42]\tval's rmse: 0.809732\n",
            "[43]\tval's rmse: 0.808763\n",
            "[44]\tval's rmse: 0.807866\n",
            "[45]\tval's rmse: 0.807165\n",
            "[46]\tval's rmse: 0.806267\n",
            "[47]\tval's rmse: 0.805477\n",
            "[48]\tval's rmse: 0.804875\n",
            "[49]\tval's rmse: 0.804262\n",
            "[50]\tval's rmse: 0.803554\n",
            "[51]\tval's rmse: 0.802731\n",
            "[52]\tval's rmse: 0.802019\n",
            "[53]\tval's rmse: 0.801401\n",
            "[54]\tval's rmse: 0.800632\n",
            "[55]\tval's rmse: 0.800228\n",
            "[56]\tval's rmse: 0.799892\n",
            "[57]\tval's rmse: 0.799442\n",
            "[58]\tval's rmse: 0.798972\n",
            "[59]\tval's rmse: 0.79858\n",
            "[60]\tval's rmse: 0.798066\n",
            "[61]\tval's rmse: 0.797629\n",
            "[62]\tval's rmse: 0.797433\n",
            "[63]\tval's rmse: 0.797019\n",
            "[64]\tval's rmse: 0.796696\n",
            "[65]\tval's rmse: 0.796309\n",
            "[66]\tval's rmse: 0.796283\n",
            "[67]\tval's rmse: 0.796028\n",
            "[68]\tval's rmse: 0.795939\n",
            "[69]\tval's rmse: 0.795709\n",
            "[70]\tval's rmse: 0.795596\n",
            "[71]\tval's rmse: 0.795453\n",
            "[72]\tval's rmse: 0.795294\n",
            "[73]\tval's rmse: 0.795002\n",
            "[74]\tval's rmse: 0.794887\n",
            "[75]\tval's rmse: 0.794876\n",
            "[76]\tval's rmse: 0.794645\n",
            "[77]\tval's rmse: 0.794523\n",
            "[78]\tval's rmse: 0.794315\n",
            "[79]\tval's rmse: 0.794145\n",
            "[80]\tval's rmse: 0.794069\n",
            "[81]\tval's rmse: 0.793962\n",
            "[82]\tval's rmse: 0.793706\n",
            "[83]\tval's rmse: 0.793453\n",
            "[84]\tval's rmse: 0.793063\n",
            "[85]\tval's rmse: 0.79278\n",
            "[86]\tval's rmse: 0.792825\n",
            "[87]\tval's rmse: 0.792848\n",
            "[88]\tval's rmse: 0.792629\n",
            "[89]\tval's rmse: 0.792617\n",
            "[90]\tval's rmse: 0.792517\n",
            "[91]\tval's rmse: 0.792528\n",
            "[92]\tval's rmse: 0.792487\n",
            "[93]\tval's rmse: 0.792275\n",
            "[94]\tval's rmse: 0.792218\n",
            "[95]\tval's rmse: 0.792084\n",
            "[96]\tval's rmse: 0.791994\n",
            "[97]\tval's rmse: 0.791948\n",
            "[98]\tval's rmse: 0.791947\n",
            "[99]\tval's rmse: 0.791869\n",
            "[100]\tval's rmse: 0.791614\n",
            "[101]\tval's rmse: 0.791615\n",
            "[102]\tval's rmse: 0.791607\n",
            "[103]\tval's rmse: 0.79143\n",
            "[104]\tval's rmse: 0.791313\n",
            "[105]\tval's rmse: 0.791263\n",
            "[106]\tval's rmse: 0.791281\n",
            "[107]\tval's rmse: 0.791092\n",
            "[108]\tval's rmse: 0.791067\n",
            "[109]\tval's rmse: 0.791072\n",
            "[110]\tval's rmse: 0.790909\n",
            "[111]\tval's rmse: 0.790776\n",
            "[112]\tval's rmse: 0.790791\n",
            "[113]\tval's rmse: 0.790759\n",
            "[114]\tval's rmse: 0.790629\n",
            "[115]\tval's rmse: 0.790642\n",
            "[116]\tval's rmse: 0.790622\n",
            "[117]\tval's rmse: 0.790557\n",
            "[118]\tval's rmse: 0.79061\n",
            "[119]\tval's rmse: 0.790499\n",
            "[120]\tval's rmse: 0.790399\n",
            "[121]\tval's rmse: 0.790381\n",
            "[122]\tval's rmse: 0.790481\n",
            "[123]\tval's rmse: 0.790482\n",
            "[124]\tval's rmse: 0.790522\n",
            "Early stopping, best iteration is:\n",
            "[121]\tval's rmse: 0.790381\n"
          ]
        }
      ]
    },
    {
      "cell_type": "code",
      "source": [
        "# Number of boosting iterations\n",
        "LGB_ITERATION = 121"
      ],
      "metadata": {
        "id": "MqBDEKetUJaT"
      },
      "execution_count": 35,
      "outputs": []
    },
    {
      "cell_type": "code",
      "source": [
        "# Predict validation data\n",
        "caLGBValPredTarget = oLGBModel.predict(dfValData.values)\n",
        "\n",
        "# Validation RMSE score\n",
        "print('Validation RMSE for LightGBM is %f' % RMSEScore(dsValTarget, caLGBValPredTarget.clip(*TARGET_RANGE)))"
      ],
      "metadata": {
        "id": "EjhKWZqhZyD6",
        "colab": {
          "base_uri": "https://localhost:8080/"
        },
        "outputId": "cc460555-c721-43ea-9daf-aa5e2a320f57"
      },
      "execution_count": 36,
      "outputs": [
        {
          "output_type": "stream",
          "name": "stdout",
          "text": [
            "Validation RMSE for LightGBM is 0.790334\n"
          ]
        }
      ]
    },
    {
      "cell_type": "markdown",
      "source": [
        "# Ensembling"
      ],
      "metadata": {
        "id": "xwG9x7PjOEpH"
      }
    },
    {
      "cell_type": "markdown",
      "source": [
        "## Train meta-features\n",
        "**KFold scheme in time series**\n",
        "1. Split the train data into chunks of duration $T$. Select first $M$ chunks.\n",
        "2. Fit $N$ diverse models on those $M$ chunks and predict for the chunk $M+1$. Then fit those models on first $M+1$ chunks and predict for chunk $M+2$ and so on, until you hit the end. After that use all train data to fit models and get predictions for test. Now we will have meta-features for the chunks starting from number $M+1$ as well as meta-features for the test. \n",
        "3. Now we can use meta-features from first $K$ chunks $[M+1,M+2,..,M+K]$ to fit level 2 models and validate them on chunk $M+K+1$. Essentially we are back to step 1. with the lesser amount of chunks and meta-features instead of features.\n",
        "\n",
        "Here, we will use duration $T$ equal to month and $M=15$.\n"
      ],
      "metadata": {
        "id": "R4ukSH2FOJGc"
      }
    },
    {
      "cell_type": "code",
      "source": [
        "# first training chunks\n",
        "M = 15\n",
        "# The six last months are the chunks for folding.\n",
        "LAST_CHUNKS = [27, 28, 29, 30, 31, 32]\n",
        "# 2nd level feature matrix\n",
        "dsTrainDateLevel2 = dsTrainDate[dsTrainDate.isin(LAST_CHUNKS)]"
      ],
      "metadata": {
        "id": "HmARbdOnU9Km"
      },
      "execution_count": 37,
      "outputs": []
    },
    {
      "cell_type": "code",
      "source": [
        "# And here we create 2nd level feature matrix, init it with zeros first\n",
        "caTrainDataLevel2 = np.zeros([dsTrainDateLevel2.shape[0], 2])\n",
        "# That is how we get target for the 2nd level dataset\n",
        "dsTrainTargetLevel2 = dsTrainTarget[dsTrainDate.isin(LAST_CHUNKS)]"
      ],
      "metadata": {
        "id": "G-1cyCw-4nHU"
      },
      "execution_count": 38,
      "outputs": []
    },
    {
      "cell_type": "code",
      "source": [
        "# 2nd level feature validation matrix\n",
        "caValDataLevel2 = np.c_[caLinearRegressionValPredTarget.clip(*TARGET_RANGE), caLGBValPredTarget.clip(*TARGET_RANGE)]"
      ],
      "metadata": {
        "id": "xwXwaH1M45P1"
      },
      "execution_count": 39,
      "outputs": []
    },
    {
      "cell_type": "code",
      "source": [
        "# number of fitting\n",
        "iCount = 0\n",
        "\n",
        "# Now fill 2nd level feature matrix with metafeatures\n",
        "for iChunk in LAST_CHUNKS:\n",
        "    # first chunks are training data\n",
        "    dfTrainDataChunk = dfTrainData.loc[dsTrainDate <  iChunk]\n",
        "    dsTrainTargetChunk = dsTrainTarget[dsTrainDate < iChunk]\n",
        "    # the current chunk is validation data\n",
        "    dfValDataChunk = dfTrainData[dsTrainDate == iChunk]\n",
        "    dsValTargetChunk = dsTrainTarget[dsTrainDate == iChunk]\n",
        "\n",
        "    print(iChunk, end='')\n",
        "    print(':  First', M + iCount, 'chunks with shape =', dfTrainDataChunk.shape, end='')\n",
        "    print(',  The chunk', M + iCount + 1, 'with shape =', dfValDataChunk.shape, end='')\n",
        "    print(',   Total Size =', dfTrainDataChunk.shape[0] + dfValDataChunk.shape[0], end='')\n",
        "    print()\n",
        "    \n",
        "    # Fit linear regression on training data\n",
        "    oLinearRegression.fit(dfTrainDataChunk, dsTrainTargetChunk)\n",
        "    # Store predictions from linear regression\n",
        "    caTrainDataLevel2[dsTrainDateLevel2 == iChunk, 0] = oLinearRegression.predict(dfValDataChunk.values).clip(*TARGET_RANGE)\n",
        "    \n",
        "    # Fit LightGBM on training data\n",
        "    oLGBModel = lgb.train(LGB_PARAMS, \n",
        "                  lgb.Dataset(dfTrainDataChunk, label=dsTrainTargetChunk), \n",
        "                  num_boost_round=LGB_ITERATION)\n",
        "    # Store predictions from LightGBM\n",
        "    caTrainDataLevel2[dsTrainDateLevel2 == iChunk, 1] = oLGBModel.predict(dfValDataChunk).clip(*TARGET_RANGE)\n",
        "\n",
        "    # number of fitting inscrease by 1\n",
        "    iCount += 1"
      ],
      "metadata": {
        "id": "ojOgtf-yVRGt",
        "colab": {
          "base_uri": "https://localhost:8080/"
        },
        "outputId": "3db9d8f0-2527-445e-a68f-e556a5344ccc"
      },
      "execution_count": 40,
      "outputs": [
        {
          "output_type": "stream",
          "name": "stdout",
          "text": [
            "27:  First 15 chunks with shape = (4805891, 35),  The chunk 16 with shape = (257107, 35),   Total Size = 5062998\n",
            "28:  First 16 chunks with shape = (5062998, 35),  The chunk 17 with shape = (232224, 35),   Total Size = 5295222\n",
            "29:  First 17 chunks with shape = (5295222, 35),  The chunk 18 with shape = (224139, 35),   Total Size = 5519361\n",
            "30:  First 18 chunks with shape = (5519361, 35),  The chunk 19 with shape = (228778, 35),   Total Size = 5748139\n",
            "31:  First 19 chunks with shape = (5748139, 35),  The chunk 20 with shape = (214419, 35),   Total Size = 5962558\n",
            "32:  First 20 chunks with shape = (5962558, 35),  The chunk 21 with shape = (218408, 35),   Total Size = 6180966\n"
          ]
        }
      ]
    },
    {
      "cell_type": "code",
      "source": [
        "# Check if the 1st level models are uncorrelated enough\n",
        "plt.scatter(caTrainDataLevel2[:, 0], caTrainDataLevel2[:, 1])\n",
        "plt.xlabel('Linear regression preds')\n",
        "plt.ylabel('LightGBM preds')\n",
        "plt.show()"
      ],
      "metadata": {
        "id": "yKuNKUiEavC9",
        "colab": {
          "base_uri": "https://localhost:8080/",
          "height": 279
        },
        "outputId": "2e1578f6-3209-4630-eb66-da1c4b5eb380"
      },
      "execution_count": 41,
      "outputs": [
        {
          "output_type": "display_data",
          "data": {
            "image/png": "[encoded data removed]",
            "text/plain": [
              "<Figure size 432x288 with 1 Axes>"
            ]
          },
          "metadata": {
            "needs_background": "light"
          }
        }
      ]
    },
    {
      "cell_type": "markdown",
      "source": [
        "## Stack the models"
      ],
      "metadata": {
        "id": "ixrybd9ggnX6"
      }
    },
    {
      "cell_type": "markdown",
      "source": [
        "### Simple convex mix\n",
        "Let's start with simple linear convex mix:\n",
        "\n",
        "$$\n",
        "mix= \\alpha\\cdot\\text{linreg_prediction}+(1-\\alpha)\\cdot\\text{lgb_prediction}\n",
        "$$\n"
      ],
      "metadata": {
        "id": "CdekX2bZgtVe"
      }
    },
    {
      "cell_type": "code",
      "source": [
        "# alphas to try\n",
        "ALPHAS_TO_TRY = np.linspace(0, 1, 1001)"
      ],
      "metadata": {
        "id": "X9Cd-s8khSXZ"
      },
      "execution_count": 42,
      "outputs": []
    },
    {
      "cell_type": "code",
      "source": [
        "\"\"\"\n",
        "    Function name: LinearConvexMix\n",
        "    \n",
        "    Objective: Ensemble two first level models by using a simple linear convex mix\n",
        "    \n",
        "    Summary algorithmic description: Calculate linear convex mix of two models\n",
        "    \n",
        "    Input parameters: caMetaFeature : meta-features\n",
        "                      fAlpha : parameter alpha\n",
        "    \n",
        "    Return : simple linear convex mix\n",
        "    \n",
        "    Date : 31/12/2021\n",
        "    \n",
        "    Coding: INSA CVL - Van Tuan BUI  \n",
        "\"\"\"\n",
        "def LinearConvexMix(caMetaFeature, fAlpha):\n",
        "    # Return results of first level model\n",
        "    return fAlpha * caMetaFeature[:, 0] + (1 - fAlpha) * caMetaFeature[:, 1]"
      ],
      "metadata": {
        "id": "M8Mao0i-hTz8"
      },
      "execution_count": 43,
      "outputs": []
    },
    {
      "cell_type": "code",
      "source": [
        "# initialize the best alpha\n",
        "fBestAlpha = -1\n",
        "# initialize the best r2 score\n",
        "fBestR2Score = -1e10\n",
        "# Loop over all alpha values\n",
        "for fAlpha in ALPHAS_TO_TRY:\n",
        "    # predictions of linear convex mix\n",
        "    caLinearConvexMixPrediction = LinearConvexMix(caTrainDataLevel2, fAlpha)\n",
        "    # R2 score of predictions\n",
        "    fR2Score = r2_score(dsTrainTargetLevel2, caLinearConvexMixPrediction.clip(*TARGET_RANGE))\n",
        "    # better r2 score found\n",
        "    if fR2Score > fBestR2Score:\n",
        "        # better alpha found\n",
        "        fBestAlpha = fAlpha\n",
        "        # better r2 score found\n",
        "        fBestR2Score = fR2Score\n",
        "\n",
        "print('Best alpha: %f; Corresponding r2 score on train: %f' % (fBestAlpha, fBestR2Score))"
      ],
      "metadata": {
        "id": "dgVCAWqxP7kH",
        "colab": {
          "base_uri": "https://localhost:8080/"
        },
        "outputId": "211db9f6-e229-4253-d27b-729bce79342b"
      },
      "execution_count": 44,
      "outputs": [
        {
          "output_type": "stream",
          "name": "stdout",
          "text": [
            "Best alpha: 0.086000; Corresponding r2 score on train: 0.358484\n"
          ]
        }
      ]
    },
    {
      "cell_type": "code",
      "source": [
        "# predictions on validation meta-features\n",
        "caLinearConvexMixPrediction = LinearConvexMix(caValDataLevel2, fBestAlpha)\n",
        "\n",
        "print('Validation RMSE for simple mix is %f' %  RMSEScore(dsValTarget, caLinearConvexMixPrediction.clip(*TARGET_RANGE)))"
      ],
      "metadata": {
        "id": "jQNv3JNUj40V",
        "colab": {
          "base_uri": "https://localhost:8080/"
        },
        "outputId": "31ef5e9f-408c-41ab-88de-fac771583071"
      },
      "execution_count": 45,
      "outputs": [
        {
          "output_type": "stream",
          "name": "stdout",
          "text": [
            "Validation RMSE for simple mix is 0.789439\n"
          ]
        }
      ]
    },
    {
      "cell_type": "markdown",
      "source": [
        "### Linear regression"
      ],
      "metadata": {
        "id": "Bpn8tU62axXY"
      }
    },
    {
      "cell_type": "code",
      "source": [
        "# Fit a linear regression model to the meta-features\n",
        "oLinearRegression.fit(caTrainDataLevel2, dsTrainTargetLevel2)\n",
        "\n",
        "print('Coefficient:            {}'.format(oLinearRegression.coef_))\n",
        "print('Normalized Coefficient: {}'.format(oLinearRegression.coef_ / oLinearRegression.coef_.sum()))"
      ],
      "metadata": {
        "id": "UDUzGtd8kSP8",
        "colab": {
          "base_uri": "https://localhost:8080/"
        },
        "outputId": "3bfbd3f4-4627-41d2-828a-84993b8f5fa2"
      },
      "execution_count": 46,
      "outputs": [
        {
          "output_type": "stream",
          "name": "stdout",
          "text": [
            "Coefficient:            [0.12100603 0.93919969]\n",
            "Normalized Coefficient: [0.11413448 0.88586552]\n"
          ]
        }
      ]
    },
    {
      "cell_type": "code",
      "source": [
        "# predictions on validation meta-features\n",
        "ca2ndLinearRegressionPrediction = oLinearRegression.predict(pd.DataFrame(caValDataLevel2)).clip(*TARGET_RANGE)\n",
        "print('Validation RMSE for linear regression as 2nd level model is %f' % RMSEScore(dsValTarget.clip(*TARGET_RANGE), ca2ndLinearRegressionPrediction))"
      ],
      "metadata": {
        "colab": {
          "base_uri": "https://localhost:8080/"
        },
        "id": "MapS27kobMPh",
        "outputId": "7d4c0f04-23bd-492b-a439-9dc576019007"
      },
      "execution_count": 47,
      "outputs": [
        {
          "output_type": "stream",
          "name": "stdout",
          "text": [
            "Validation RMSE for linear regression as 2nd level model is 0.790043\n"
          ]
        }
      ]
    },
    {
      "cell_type": "markdown",
      "source": [
        "# Prediction for submission"
      ],
      "metadata": {
        "id": "goVFs031G-yD"
      }
    },
    {
      "cell_type": "code",
      "source": [
        "# Load test data to merge ID for submission\n",
        "dfTest = pd.read_csv(f'{DATA_FOLDER}/test.csv')"
      ],
      "metadata": {
        "id": "Arh1BIEi_vAr"
      },
      "execution_count": 48,
      "outputs": []
    },
    {
      "cell_type": "code",
      "source": [
        "# print information about the index dtype and columns, non-null values and memory usage\n",
        "dfTest.info()"
      ],
      "metadata": {
        "id": "IaouiRzKHsRS",
        "colab": {
          "base_uri": "https://localhost:8080/"
        },
        "outputId": "0f314476-4960-423c-cb52-011866a50fea"
      },
      "execution_count": 49,
      "outputs": [
        {
          "output_type": "stream",
          "name": "stdout",
          "text": [
            "<class 'pandas.core.frame.DataFrame'>\n",
            "RangeIndex: 214200 entries, 0 to 214199\n",
            "Data columns (total 3 columns):\n",
            " #   Column   Non-Null Count   Dtype\n",
            "---  ------   --------------   -----\n",
            " 0   ID       214200 non-null  int64\n",
            " 1   shop_id  214200 non-null  int64\n",
            " 2   item_id  214200 non-null  int64\n",
            "dtypes: int64(3)\n",
            "memory usage: 4.9 MB\n"
          ]
        }
      ]
    },
    {
      "cell_type": "code",
      "source": [
        "# Fit linear model\n",
        "oLinearRegression.fit(dfTrainData.values, dsTrainTarget)\n",
        "# Predict test data\n",
        "caLinearRegressionTestPredTarget = oLinearRegression.predict(dfTestData.values)\n",
        "\n",
        "# Fit LightGBM on training data\n",
        "oLGBModel = lgb.train(LGB_PARAMS, \n",
        "              lgb.Dataset(dfTrainData, label=dsTrainTarget.clip(*TARGET_RANGE)), \n",
        "              num_boost_round=LGB_ITERATION)\n",
        "# Predict test data\n",
        "caLGBTestPredTarget = oLGBModel.predict(dfTestData.values)"
      ],
      "metadata": {
        "id": "pGSqutEzNiDN"
      },
      "execution_count": 50,
      "outputs": []
    },
    {
      "cell_type": "code",
      "source": [
        "# 2nd level feature validation matrix\n",
        "caTestDataLevel2 = np.c_[caLinearRegressionTestPredTarget.clip(*TARGET_RANGE), caLGBTestPredTarget.clip(*TARGET_RANGE)]"
      ],
      "metadata": {
        "id": "xjpfqicv9h-N"
      },
      "execution_count": null,
      "outputs": []
    },
    {
      "cell_type": "code",
      "source": [
        "# Ensemble two first level models by using a simple linear convex mix\n",
        "caLinearConvexMixPrediction = LinearConvexMix(caTestDataLevel2, fBestAlpha)"
      ],
      "metadata": {
        "id": "n1xWd8klmlsM"
      },
      "execution_count": 52,
      "outputs": []
    },
    {
      "cell_type": "code",
      "source": [
        "# Predict test data\n",
        "caTestPredTarget = caLinearConvexMixPrediction.clip(*TARGET_RANGE)\n",
        "# length of prediction data\n",
        "caTestPredTarget.shape"
      ],
      "metadata": {
        "id": "lvnhnsYvHtgB",
        "colab": {
          "base_uri": "https://localhost:8080/"
        },
        "outputId": "03aaee30-9de0-496e-c344-a9864efb4964"
      },
      "execution_count": 53,
      "outputs": [
        {
          "output_type": "execute_result",
          "data": {
            "text/plain": [
              "(214200,)"
            ]
          },
          "metadata": {},
          "execution_count": 53
        }
      ]
    },
    {
      "cell_type": "code",
      "source": [
        "# test data\n",
        "dfTestSubmission = dfAggregatedTrainTest[dsTrainTestDate==iTestMonth][['shop_id','item_id']]\n",
        "# predictions of `item_cnt_month`\n",
        "dfTestSubmission['item_cnt_month'] = caTestPredTarget\n",
        "# Display the first 5 rows\n",
        "dfTestSubmission.head()"
      ],
      "metadata": {
        "id": "PN7hFLKRMMBQ",
        "colab": {
          "base_uri": "https://localhost:8080/",
          "height": 206
        },
        "outputId": "3f6722cd-88fe-4665-8163-4619c14a6570"
      },
      "execution_count": 54,
      "outputs": [
        {
          "output_type": "execute_result",
          "data": {
            "text/html": [
              "\n",
              "  <div id=\"df-1aa6eb5e-a772-4273-b83a-5a5eb7389a3e\">\n",
              "    <div class=\"colab-df-container\">\n",
              "      <div>\n",
              "<style scoped>\n",
              "    .dataframe tbody tr th:only-of-type {\n",
              "        vertical-align: middle;\n",
              "    }\n",
              "\n",
              "    .dataframe tbody tr th {\n",
              "        vertical-align: top;\n",
              "    }\n",
              "\n",
              "    .dataframe thead th {\n",
              "        text-align: right;\n",
              "    }\n",
              "</style>\n",
              "<table border=\"1\" class=\"dataframe\">\n",
              "  <thead>\n",
              "    <tr style=\"text-align: right;\">\n",
              "      <th></th>\n",
              "      <th>shop_id</th>\n",
              "      <th>item_id</th>\n",
              "      <th>item_cnt_month</th>\n",
              "    </tr>\n",
              "  </thead>\n",
              "  <tbody>\n",
              "    <tr>\n",
              "      <th>10902329</th>\n",
              "      <td>2</td>\n",
              "      <td>30</td>\n",
              "      <td>0.020906</td>\n",
              "    </tr>\n",
              "    <tr>\n",
              "      <th>10902330</th>\n",
              "      <td>2</td>\n",
              "      <td>31</td>\n",
              "      <td>0.200140</td>\n",
              "    </tr>\n",
              "    <tr>\n",
              "      <th>10902331</th>\n",
              "      <td>2</td>\n",
              "      <td>32</td>\n",
              "      <td>0.184357</td>\n",
              "    </tr>\n",
              "    <tr>\n",
              "      <th>10902332</th>\n",
              "      <td>2</td>\n",
              "      <td>33</td>\n",
              "      <td>0.199119</td>\n",
              "    </tr>\n",
              "    <tr>\n",
              "      <th>10902333</th>\n",
              "      <td>2</td>\n",
              "      <td>38</td>\n",
              "      <td>0.016729</td>\n",
              "    </tr>\n",
              "  </tbody>\n",
              "</table>\n",
              "</div>\n",
              "      <button class=\"colab-df-convert\" onclick=\"convertToInteractive('df-1aa6eb5e-a772-4273-b83a-5a5eb7389a3e')\"\n",
              "              title=\"Convert this dataframe to an interactive table.\"\n",
              "              style=\"display:none;\">\n",
              "        \n",
              "  <svg xmlns=\"http://www.w3.org/2000/svg\" height=\"24px\"viewBox=\"0 0 24 24\"\n",
              "       width=\"24px\">\n",
              "    <path d=\"M0 0h24v24H0V0z\" fill=\"none\"/>\n",
              "    <path d=\"M18.56 5.44l.94 2.06.94-2.06 2.06-.94-2.06-.94-.94-2.06-.94 2.06-2.06.94zm-11 1L8.5 8.5l.94-2.06 2.06-.94-2.06-.94L8.5 2.5l-.94 2.06-2.06.94zm10 10l.94 2.06.94-2.06 2.06-.94-2.06-.94-.94-2.06-.94 2.06-2.06.94z\"/><path d=\"M17.41 7.96l-1.37-1.37c-.4-.4-.92-.59-1.43-.59-.52 0-1.04.2-1.43.59L10.3 9.45l-7.72 7.72c-.78.78-.78 2.05 0 2.83L4 21.41c.39.39.9.59 1.41.59.51 0 1.02-.2 1.41-.59l7.78-7.78 2.81-2.81c.8-.78.8-2.07 0-2.86zM5.41 20L4 18.59l7.72-7.72 1.47 1.35L5.41 20z\"/>\n",
              "  </svg>\n",
              "      </button>\n",
              "      \n",
              "  <style>\n",
              "    .colab-df-container {\n",
              "      display:flex;\n",
              "      flex-wrap:wrap;\n",
              "      gap: 12px;\n",
              "    }\n",
              "\n",
              "    .colab-df-convert {\n",
              "      background-color: #E8F0FE;\n",
              "      border: none;\n",
              "      border-radius: 50%;\n",
              "      cursor: pointer;\n",
              "      display: none;\n",
              "      fill: #1967D2;\n",
              "      height: 32px;\n",
              "      padding: 0 0 0 0;\n",
              "      width: 32px;\n",
              "    }\n",
              "\n",
              "    .colab-df-convert:hover {\n",
              "      background-color: #E2EBFA;\n",
              "      box-shadow: 0px 1px 2px rgba(60, 64, 67, 0.3), 0px 1px 3px 1px rgba(60, 64, 67, 0.15);\n",
              "      fill: #174EA6;\n",
              "    }\n",
              "\n",
              "    [theme=dark] .colab-df-convert {\n",
              "      background-color: #3B4455;\n",
              "      fill: #D2E3FC;\n",
              "    }\n",
              "\n",
              "    [theme=dark] .colab-df-convert:hover {\n",
              "      background-color: #434B5C;\n",
              "      box-shadow: 0px 1px 3px 1px rgba(0, 0, 0, 0.15);\n",
              "      filter: drop-shadow(0px 1px 2px rgba(0, 0, 0, 0.3));\n",
              "      fill: #FFFFFF;\n",
              "    }\n",
              "  </style>\n",
              "\n",
              "      <script>\n",
              "        const buttonEl =\n",
              "          document.querySelector('#df-1aa6eb5e-a772-4273-b83a-5a5eb7389a3e button.colab-df-convert');\n",
              "        buttonEl.style.display =\n",
              "          google.colab.kernel.accessAllowed ? 'block' : 'none';\n",
              "\n",
              "        async function convertToInteractive(key) {\n",
              "          const element = document.querySelector('#df-1aa6eb5e-a772-4273-b83a-5a5eb7389a3e');\n",
              "          const dataTable =\n",
              "            await google.colab.kernel.invokeFunction('convertToInteractive',\n",
              "                                                     [key], {});\n",
              "          if (!dataTable) return;\n",
              "\n",
              "          const docLinkHtml = 'Like what you see? Visit the ' +\n",
              "            '<a target=\"_blank\" href=https://colab.research.google.com/notebooks/data_table.ipynb>data table notebook</a>'\n",
              "            + ' to learn more about interactive tables.';\n",
              "          element.innerHTML = '';\n",
              "          dataTable['output_type'] = 'display_data';\n",
              "          await google.colab.output.renderOutput(dataTable, element);\n",
              "          const docLink = document.createElement('div');\n",
              "          docLink.innerHTML = docLinkHtml;\n",
              "          element.appendChild(docLink);\n",
              "        }\n",
              "      </script>\n",
              "    </div>\n",
              "  </div>\n",
              "  "
            ],
            "text/plain": [
              "          shop_id  item_id  item_cnt_month\n",
              "10902329        2       30        0.020906\n",
              "10902330        2       31        0.200140\n",
              "10902331        2       32        0.184357\n",
              "10902332        2       33        0.199119\n",
              "10902333        2       38        0.016729"
            ]
          },
          "metadata": {},
          "execution_count": 54
        }
      ]
    },
    {
      "cell_type": "code",
      "source": [
        "# Use test data to merge ID for submission\n",
        "dfSubmission = dfTest.merge(dfTestSubmission, on=['shop_id','item_id'], how='left')\n",
        "# # Display the first 5 rows\n",
        "dfSubmission.head()"
      ],
      "metadata": {
        "id": "JrJu0fFaM5t9",
        "colab": {
          "base_uri": "https://localhost:8080/",
          "height": 206
        },
        "outputId": "bf1aad55-5235-4268-af12-854097d01aa1"
      },
      "execution_count": 55,
      "outputs": [
        {
          "output_type": "execute_result",
          "data": {
            "text/html": [
              "\n",
              "  <div id=\"df-726414b0-91f7-4cc9-acb3-2918fdc81d79\">\n",
              "    <div class=\"colab-df-container\">\n",
              "      <div>\n",
              "<style scoped>\n",
              "    .dataframe tbody tr th:only-of-type {\n",
              "        vertical-align: middle;\n",
              "    }\n",
              "\n",
              "    .dataframe tbody tr th {\n",
              "        vertical-align: top;\n",
              "    }\n",
              "\n",
              "    .dataframe thead th {\n",
              "        text-align: right;\n",
              "    }\n",
              "</style>\n",
              "<table border=\"1\" class=\"dataframe\">\n",
              "  <thead>\n",
              "    <tr style=\"text-align: right;\">\n",
              "      <th></th>\n",
              "      <th>ID</th>\n",
              "      <th>shop_id</th>\n",
              "      <th>item_id</th>\n",
              "      <th>item_cnt_month</th>\n",
              "    </tr>\n",
              "  </thead>\n",
              "  <tbody>\n",
              "    <tr>\n",
              "      <th>0</th>\n",
              "      <td>0</td>\n",
              "      <td>5</td>\n",
              "      <td>5037</td>\n",
              "      <td>0.572871</td>\n",
              "    </tr>\n",
              "    <tr>\n",
              "      <th>1</th>\n",
              "      <td>1</td>\n",
              "      <td>5</td>\n",
              "      <td>5320</td>\n",
              "      <td>0.432402</td>\n",
              "    </tr>\n",
              "    <tr>\n",
              "      <th>2</th>\n",
              "      <td>2</td>\n",
              "      <td>5</td>\n",
              "      <td>5233</td>\n",
              "      <td>0.981363</td>\n",
              "    </tr>\n",
              "    <tr>\n",
              "      <th>3</th>\n",
              "      <td>3</td>\n",
              "      <td>5</td>\n",
              "      <td>5232</td>\n",
              "      <td>0.498386</td>\n",
              "    </tr>\n",
              "    <tr>\n",
              "      <th>4</th>\n",
              "      <td>4</td>\n",
              "      <td>5</td>\n",
              "      <td>5268</td>\n",
              "      <td>1.885138</td>\n",
              "    </tr>\n",
              "  </tbody>\n",
              "</table>\n",
              "</div>\n",
              "      <button class=\"colab-df-convert\" onclick=\"convertToInteractive('df-726414b0-91f7-4cc9-acb3-2918fdc81d79')\"\n",
              "              title=\"Convert this dataframe to an interactive table.\"\n",
              "              style=\"display:none;\">\n",
              "        \n",
              "  <svg xmlns=\"http://www.w3.org/2000/svg\" height=\"24px\"viewBox=\"0 0 24 24\"\n",
              "       width=\"24px\">\n",
              "    <path d=\"M0 0h24v24H0V0z\" fill=\"none\"/>\n",
              "    <path d=\"M18.56 5.44l.94 2.06.94-2.06 2.06-.94-2.06-.94-.94-2.06-.94 2.06-2.06.94zm-11 1L8.5 8.5l.94-2.06 2.06-.94-2.06-.94L8.5 2.5l-.94 2.06-2.06.94zm10 10l.94 2.06.94-2.06 2.06-.94-2.06-.94-.94-2.06-.94 2.06-2.06.94z\"/><path d=\"M17.41 7.96l-1.37-1.37c-.4-.4-.92-.59-1.43-.59-.52 0-1.04.2-1.43.59L10.3 9.45l-7.72 7.72c-.78.78-.78 2.05 0 2.83L4 21.41c.39.39.9.59 1.41.59.51 0 1.02-.2 1.41-.59l7.78-7.78 2.81-2.81c.8-.78.8-2.07 0-2.86zM5.41 20L4 18.59l7.72-7.72 1.47 1.35L5.41 20z\"/>\n",
              "  </svg>\n",
              "      </button>\n",
              "      \n",
              "  <style>\n",
              "    .colab-df-container {\n",
              "      display:flex;\n",
              "      flex-wrap:wrap;\n",
              "      gap: 12px;\n",
              "    }\n",
              "\n",
              "    .colab-df-convert {\n",
              "      background-color: #E8F0FE;\n",
              "      border: none;\n",
              "      border-radius: 50%;\n",
              "      cursor: pointer;\n",
              "      display: none;\n",
              "      fill: #1967D2;\n",
              "      height: 32px;\n",
              "      padding: 0 0 0 0;\n",
              "      width: 32px;\n",
              "    }\n",
              "\n",
              "    .colab-df-convert:hover {\n",
              "      background-color: #E2EBFA;\n",
              "      box-shadow: 0px 1px 2px rgba(60, 64, 67, 0.3), 0px 1px 3px 1px rgba(60, 64, 67, 0.15);\n",
              "      fill: #174EA6;\n",
              "    }\n",
              "\n",
              "    [theme=dark] .colab-df-convert {\n",
              "      background-color: #3B4455;\n",
              "      fill: #D2E3FC;\n",
              "    }\n",
              "\n",
              "    [theme=dark] .colab-df-convert:hover {\n",
              "      background-color: #434B5C;\n",
              "      box-shadow: 0px 1px 3px 1px rgba(0, 0, 0, 0.15);\n",
              "      filter: drop-shadow(0px 1px 2px rgba(0, 0, 0, 0.3));\n",
              "      fill: #FFFFFF;\n",
              "    }\n",
              "  </style>\n",
              "\n",
              "      <script>\n",
              "        const buttonEl =\n",
              "          document.querySelector('#df-726414b0-91f7-4cc9-acb3-2918fdc81d79 button.colab-df-convert');\n",
              "        buttonEl.style.display =\n",
              "          google.colab.kernel.accessAllowed ? 'block' : 'none';\n",
              "\n",
              "        async function convertToInteractive(key) {\n",
              "          const element = document.querySelector('#df-726414b0-91f7-4cc9-acb3-2918fdc81d79');\n",
              "          const dataTable =\n",
              "            await google.colab.kernel.invokeFunction('convertToInteractive',\n",
              "                                                     [key], {});\n",
              "          if (!dataTable) return;\n",
              "\n",
              "          const docLinkHtml = 'Like what you see? Visit the ' +\n",
              "            '<a target=\"_blank\" href=https://colab.research.google.com/notebooks/data_table.ipynb>data table notebook</a>'\n",
              "            + ' to learn more about interactive tables.';\n",
              "          element.innerHTML = '';\n",
              "          dataTable['output_type'] = 'display_data';\n",
              "          await google.colab.output.renderOutput(dataTable, element);\n",
              "          const docLink = document.createElement('div');\n",
              "          docLink.innerHTML = docLinkHtml;\n",
              "          element.appendChild(docLink);\n",
              "        }\n",
              "      </script>\n",
              "    </div>\n",
              "  </div>\n",
              "  "
            ],
            "text/plain": [
              "   ID  shop_id  item_id  item_cnt_month\n",
              "0   0        5     5037        0.572871\n",
              "1   1        5     5320        0.432402\n",
              "2   2        5     5233        0.981363\n",
              "3   3        5     5232        0.498386\n",
              "4   4        5     5268        1.885138"
            ]
          },
          "metadata": {},
          "execution_count": 55
        }
      ]
    },
    {
      "cell_type": "code",
      "source": [
        "# print information about the index dtype and columns, non-null values and memory usage\n",
        "dfSubmission.info()"
      ],
      "metadata": {
        "id": "a_DrpJ8YNdNR",
        "colab": {
          "base_uri": "https://localhost:8080/"
        },
        "outputId": "8c58f6b4-cb2e-4a5c-df66-6bdbb9bc7b95"
      },
      "execution_count": 56,
      "outputs": [
        {
          "output_type": "stream",
          "name": "stdout",
          "text": [
            "<class 'pandas.core.frame.DataFrame'>\n",
            "Int64Index: 214200 entries, 0 to 214199\n",
            "Data columns (total 4 columns):\n",
            " #   Column          Non-Null Count   Dtype  \n",
            "---  ------          --------------   -----  \n",
            " 0   ID              214200 non-null  int64  \n",
            " 1   shop_id         214200 non-null  int64  \n",
            " 2   item_id         214200 non-null  int64  \n",
            " 3   item_cnt_month  214200 non-null  float64\n",
            "dtypes: float64(1), int64(3)\n",
            "memory usage: 8.2 MB\n"
          ]
        }
      ]
    },
    {
      "cell_type": "code",
      "source": [
        "# Dump to file\n",
        "dfSubmission[['ID','item_cnt_month']].to_csv(f'{DATA_FOLDER}/submission.csv', header=True, index=False)"
      ],
      "metadata": {
        "id": "VL0gt5GwNerw"
      },
      "execution_count": 57,
      "outputs": []
    },
    {
      "cell_type": "code",
      "source": [
        ""
      ],
      "metadata": {
        "id": "3-XA7T94OEfD"
      },
      "execution_count": null,
      "outputs": []
    }
  ]
}